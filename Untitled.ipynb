{
 "cells": [
  {
   "cell_type": "code",
   "execution_count": 4,
   "metadata": {},
   "outputs": [],
   "source": [
    "import pandas as pd\n",
    "import altair as alt"
   ]
  },
  {
   "cell_type": "code",
   "execution_count": 19,
   "metadata": {},
   "outputs": [
    {
     "output_type": "execute_result",
     "data": {
      "text/plain": [
       "DataTransformerRegistry.enable('json')"
      ]
     },
     "metadata": {},
     "execution_count": 19
    }
   ],
   "source": [
    "alt.data_transformers.enable('json')\n",
    "#> DataTransformerRegistry.enable('json')"
   ]
  },
  {
   "cell_type": "code",
   "execution_count": 1,
   "metadata": {},
   "outputs": [
    {
     "output_type": "stream",
     "name": "stdout",
     "text": [
      "Collecting altair\n",
      "  Using cached altair-4.1.0-py3-none-any.whl (727 kB)\n",
      "Requirement already satisfied: pandas>=0.18 in c:\\users\\iodan\\anaconda3\\lib\\site-packages (from altair) (1.0.5)\n",
      "Requirement already satisfied: numpy in c:\\users\\iodan\\anaconda3\\lib\\site-packages (from altair) (1.18.5)\n",
      "Requirement already satisfied: jsonschema in c:\\users\\iodan\\anaconda3\\lib\\site-packages (from altair) (3.2.0)\n",
      "Requirement already satisfied: toolz in c:\\users\\iodan\\anaconda3\\lib\\site-packages (from altair) (0.10.0)\n",
      "Requirement already satisfied: entrypoints in c:\\users\\iodan\\anaconda3\\lib\\site-packages (from altair) (0.3)\n",
      "Requirement already satisfied: jinja2 in c:\\users\\iodan\\anaconda3\\lib\\site-packages (from altair) (2.11.2)\n",
      "Requirement already satisfied: python-dateutil>=2.6.1 in c:\\users\\iodan\\anaconda3\\lib\\site-packages (from pandas>=0.18->altair) (2.8.1)\n",
      "Requirement already satisfied: pytz>=2017.2 in c:\\users\\iodan\\anaconda3\\lib\\site-packages (from pandas>=0.18->altair) (2020.1)\n",
      "Requirement already satisfied: attrs>=17.4.0 in c:\\users\\iodan\\anaconda3\\lib\\site-packages (from jsonschema->altair) (19.3.0)\n",
      "Requirement already satisfied: setuptools in c:\\users\\iodan\\anaconda3\\lib\\site-packages (from jsonschema->altair) (49.2.0.post20200714)\n",
      "Requirement already satisfied: pyrsistent>=0.14.0 in c:\\users\\iodan\\anaconda3\\lib\\site-packages (from jsonschema->altair) (0.16.0)\n",
      "Requirement already satisfied: six>=1.11.0 in c:\\users\\iodan\\anaconda3\\lib\\site-packages (from jsonschema->altair) (1.15.0)\n",
      "Requirement already satisfied: MarkupSafe>=0.23 in c:\\users\\iodan\\anaconda3\\lib\\site-packages (from jinja2->altair) (1.1.1)\n",
      "Installing collected packages: altair\n",
      "Successfully installed altair-4.1.0\n"
     ]
    }
   ],
   "source": [
    "!pip3 install altair\n"
   ]
  },
  {
   "cell_type": "code",
   "execution_count": 2,
   "metadata": {},
   "outputs": [
    {
     "output_type": "stream",
     "name": "stdout",
     "text": [
      "Package                            Version\n",
      "---------------------------------- -------------------\n",
      "alabaster                          0.7.12\n",
      "altair                             4.1.0\n",
      "anaconda-client                    1.7.2\n",
      "anaconda-navigator                 1.9.12\n",
      "anaconda-project                   0.8.3\n",
      "argh                               0.26.2\n",
      "asn1crypto                         1.3.0\n",
      "astroid                            2.4.2\n",
      "astropy                            4.0.1.post1\n",
      "atomicwrites                       1.4.0\n",
      "attrs                              19.3.0\n",
      "autopep8                           1.5.3\n",
      "Babel                              2.8.0\n",
      "backcall                           0.2.0\n",
      "backports.functools-lru-cache      1.6.1\n",
      "backports.shutil-get-terminal-size 1.0.0\n",
      "backports.tempfile                 1.0\n",
      "backports.weakref                  1.0.post1\n",
      "bcrypt                             3.1.7\n",
      "beautifulsoup4                     4.9.1\n",
      "bitarray                           1.4.0\n",
      "bkcharts                           0.2\n",
      "bleach                             3.1.5\n",
      "bokeh                              2.1.1\n",
      "boto                               2.49.0\n",
      "Bottleneck                         1.3.2\n",
      "brotlipy                           0.7.0\n",
      "certifi                            2020.6.20\n",
      "cffi                               1.14.0\n",
      "chardet                            3.0.4\n",
      "click                              7.1.2\n",
      "cloudpickle                        1.5.0\n",
      "clyent                             1.2.2\n",
      "colorama                           0.4.3\n",
      "comtypes                           1.1.7\n",
      "conda                              4.8.3\n",
      "conda-build                        3.18.11\n",
      "conda-package-handling             1.7.0\n",
      "conda-verify                       3.4.2\n",
      "confuse                            1.3.0\n",
      "contextlib2                        0.6.0.post1\n",
      "cryptography                       2.9.2\n",
      "cycler                             0.10.0\n",
      "Cython                             0.29.21\n",
      "cytoolz                            0.10.1\n",
      "dask                               2.20.0\n",
      "decorator                          4.4.2\n",
      "defusedxml                         0.6.0\n",
      "diff-match-patch                   20200713\n",
      "distributed                        2.20.0\n",
      "docutils                           0.16\n",
      "Note: you may need to restart the kernel to use updated packages.\n",
      "entrypoints                        0.3\n",
      "et-xmlfile                         1.0.1\n",
      "fastcache                          1.1.0\n",
      "filelock                           3.0.12\n",
      "flake8                             3.8.3\n",
      "Flask                              1.1.2\n",
      "fsspec                             0.7.4\n",
      "future                             0.18.2\n",
      "gevent                             20.6.2\n",
      "glob2                              0.7\n",
      "gmpy2                              2.0.8\n",
      "greenlet                           0.4.16\n",
      "h5py                               2.10.0\n",
      "HeapDict                           1.0.1\n",
      "html5lib                           1.1\n",
      "htmlmin                            0.1.12\n",
      "idna                               2.10\n",
      "ImageHash                          4.1.0\n",
      "imageio                            2.9.0\n",
      "imagesize                          1.2.0\n",
      "importlib-metadata                 1.7.0\n",
      "intervaltree                       3.0.2\n",
      "ipykernel                          5.3.2\n",
      "ipython                            7.16.1\n",
      "ipython-genutils                   0.2.0\n",
      "ipywidgets                         7.5.1\n",
      "isort                              4.3.21\n",
      "itsdangerous                       1.1.0\n",
      "jdcal                              1.4.1\n",
      "jedi                               0.17.1\n",
      "Jinja2                             2.11.2\n",
      "joblib                             0.16.0\n",
      "json5                              0.9.5\n",
      "jsonschema                         3.2.0\n",
      "jupyter                            1.0.0\n",
      "jupyter-client                     6.1.6\n",
      "jupyter-console                    6.1.0\n",
      "jupyter-core                       4.6.3\n",
      "jupyterlab                         2.1.5\n",
      "jupyterlab-server                  1.2.0\n",
      "keyring                            21.2.1\n",
      "kiwisolver                         1.2.0\n",
      "lazy-object-proxy                  1.4.3\n",
      "libarchive-c                       2.9\n",
      "llvmlite                           0.33.0+1.g022ab0f\n",
      "locket                             0.2.0\n",
      "lxml                               4.5.2\n",
      "MarkupSafe                         1.1.1\n",
      "matplotlib                         3.2.2\n",
      "mccabe                             0.6.1\n",
      "menuinst                           1.4.16\n",
      "mglearn                            0.1.9\n",
      "missingno                          0.4.2\n",
      "mistune                            0.8.4\n",
      "mkl-fft                            1.1.0\n",
      "mkl-random                         1.1.1\n",
      "mkl-service                        2.3.0\n",
      "mock                               4.0.2\n",
      "more-itertools                     8.4.0\n",
      "mpmath                             1.1.0\n",
      "msgpack                            1.0.0\n",
      "multipledispatch                   0.6.0\n",
      "navigator-updater                  0.2.1"
     ]
    }
   ],
   "source": [
    "pip list\n"
   ]
  },
  {
   "cell_type": "code",
   "execution_count": 20,
   "metadata": {},
   "outputs": [],
   "source": [
    "url = \"https://github.com/byuidatascience/data4python4ds/raw/master/data-raw/mpg/mpg.csv\"\n",
    "mpg = pd.read_csv(url)"
   ]
  },
  {
   "cell_type": "code",
   "execution_count": 21,
   "metadata": {},
   "outputs": [
    {
     "output_type": "execute_result",
     "data": {
      "text/plain": [
       "                     0           1           2         3         4  \\\n",
       "manufacturer      audi        audi        audi      audi      audi   \n",
       "model               a4          a4          a4        a4        a4   \n",
       "displ              1.8         1.8           2         2       2.8   \n",
       "year              1999        1999        2008      2008      1999   \n",
       "cyl                  4           4           4         4         6   \n",
       "trans         auto(l5)  manual(m5)  manual(m6)  auto(av)  auto(l5)   \n",
       "drv                  f           f           f         f         f   \n",
       "cty                 18          21          20        21        16   \n",
       "hwy                 29          29          31        30        26   \n",
       "fl                   p           p           p         p         p   \n",
       "class          compact     compact     compact   compact   compact   \n",
       "\n",
       "                       5         6           7           8           9  \n",
       "manufacturer        audi      audi        audi        audi        audi  \n",
       "model                 a4        a4  a4 quattro  a4 quattro  a4 quattro  \n",
       "displ                2.8       3.1         1.8         1.8           2  \n",
       "year                1999      2008        1999        1999        2008  \n",
       "cyl                    6         6           4           4           4  \n",
       "trans         manual(m5)  auto(av)  manual(m5)    auto(l5)  manual(m6)  \n",
       "drv                    f         f           4           4           4  \n",
       "cty                   18        18          18          16          20  \n",
       "hwy                   26        27          26          25          28  \n",
       "fl                     p         p           p           p           p  \n",
       "class            compact   compact     compact     compact     compact  "
      ],
      "text/html": "<div>\n<style scoped>\n    .dataframe tbody tr th:only-of-type {\n        vertical-align: middle;\n    }\n\n    .dataframe tbody tr th {\n        vertical-align: top;\n    }\n\n    .dataframe thead th {\n        text-align: right;\n    }\n</style>\n<table border=\"1\" class=\"dataframe\">\n  <thead>\n    <tr style=\"text-align: right;\">\n      <th></th>\n      <th>0</th>\n      <th>1</th>\n      <th>2</th>\n      <th>3</th>\n      <th>4</th>\n      <th>5</th>\n      <th>6</th>\n      <th>7</th>\n      <th>8</th>\n      <th>9</th>\n    </tr>\n  </thead>\n  <tbody>\n    <tr>\n      <th>manufacturer</th>\n      <td>audi</td>\n      <td>audi</td>\n      <td>audi</td>\n      <td>audi</td>\n      <td>audi</td>\n      <td>audi</td>\n      <td>audi</td>\n      <td>audi</td>\n      <td>audi</td>\n      <td>audi</td>\n    </tr>\n    <tr>\n      <th>model</th>\n      <td>a4</td>\n      <td>a4</td>\n      <td>a4</td>\n      <td>a4</td>\n      <td>a4</td>\n      <td>a4</td>\n      <td>a4</td>\n      <td>a4 quattro</td>\n      <td>a4 quattro</td>\n      <td>a4 quattro</td>\n    </tr>\n    <tr>\n      <th>displ</th>\n      <td>1.8</td>\n      <td>1.8</td>\n      <td>2</td>\n      <td>2</td>\n      <td>2.8</td>\n      <td>2.8</td>\n      <td>3.1</td>\n      <td>1.8</td>\n      <td>1.8</td>\n      <td>2</td>\n    </tr>\n    <tr>\n      <th>year</th>\n      <td>1999</td>\n      <td>1999</td>\n      <td>2008</td>\n      <td>2008</td>\n      <td>1999</td>\n      <td>1999</td>\n      <td>2008</td>\n      <td>1999</td>\n      <td>1999</td>\n      <td>2008</td>\n    </tr>\n    <tr>\n      <th>cyl</th>\n      <td>4</td>\n      <td>4</td>\n      <td>4</td>\n      <td>4</td>\n      <td>6</td>\n      <td>6</td>\n      <td>6</td>\n      <td>4</td>\n      <td>4</td>\n      <td>4</td>\n    </tr>\n    <tr>\n      <th>trans</th>\n      <td>auto(l5)</td>\n      <td>manual(m5)</td>\n      <td>manual(m6)</td>\n      <td>auto(av)</td>\n      <td>auto(l5)</td>\n      <td>manual(m5)</td>\n      <td>auto(av)</td>\n      <td>manual(m5)</td>\n      <td>auto(l5)</td>\n      <td>manual(m6)</td>\n    </tr>\n    <tr>\n      <th>drv</th>\n      <td>f</td>\n      <td>f</td>\n      <td>f</td>\n      <td>f</td>\n      <td>f</td>\n      <td>f</td>\n      <td>f</td>\n      <td>4</td>\n      <td>4</td>\n      <td>4</td>\n    </tr>\n    <tr>\n      <th>cty</th>\n      <td>18</td>\n      <td>21</td>\n      <td>20</td>\n      <td>21</td>\n      <td>16</td>\n      <td>18</td>\n      <td>18</td>\n      <td>18</td>\n      <td>16</td>\n      <td>20</td>\n    </tr>\n    <tr>\n      <th>hwy</th>\n      <td>29</td>\n      <td>29</td>\n      <td>31</td>\n      <td>30</td>\n      <td>26</td>\n      <td>26</td>\n      <td>27</td>\n      <td>26</td>\n      <td>25</td>\n      <td>28</td>\n    </tr>\n    <tr>\n      <th>fl</th>\n      <td>p</td>\n      <td>p</td>\n      <td>p</td>\n      <td>p</td>\n      <td>p</td>\n      <td>p</td>\n      <td>p</td>\n      <td>p</td>\n      <td>p</td>\n      <td>p</td>\n    </tr>\n    <tr>\n      <th>class</th>\n      <td>compact</td>\n      <td>compact</td>\n      <td>compact</td>\n      <td>compact</td>\n      <td>compact</td>\n      <td>compact</td>\n      <td>compact</td>\n      <td>compact</td>\n      <td>compact</td>\n      <td>compact</td>\n    </tr>\n  </tbody>\n</table>\n</div>"
     },
     "metadata": {},
     "execution_count": 21
    }
   ],
   "source": [
    "mpg.head(10).T"
   ]
  },
  {
   "cell_type": "code",
   "execution_count": 24,
   "metadata": {},
   "outputs": [],
   "source": [
    "chart = (alt.Chart(mpg)\n",
    "  .encode(\n",
    "    x='displ', \n",
    "    y='hwy',\n",
    "    color =\"class\"\n",
    "    )\n",
    "  .mark_circle()\n",
    ")"
   ]
  },
  {
   "cell_type": "code",
   "execution_count": null,
   "metadata": {},
   "outputs": [],
   "source": []
  },
  {
   "cell_type": "code",
   "execution_count": null,
   "metadata": {},
   "outputs": [],
   "source": []
  }
 ],
 "metadata": {
  "kernelspec": {
   "display_name": "Python 3",
   "language": "python",
   "name": "python3"
  },
  "language_info": {
   "codemirror_mode": {
    "name": "ipython",
    "version": 3
   },
   "file_extension": ".py",
   "mimetype": "text/x-python",
   "name": "python",
   "nbconvert_exporter": "python",
   "pygments_lexer": "ipython3",
   "version": "3.8.3"
  }
 },
 "nbformat": 4,
 "nbformat_minor": 4
}